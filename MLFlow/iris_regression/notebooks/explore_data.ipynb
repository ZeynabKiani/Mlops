{
  "nbformat": 4,
  "nbformat_minor": 0,
  "metadata": {
    "colab": {
      "provenance": []
    },
    "kernelspec": {
      "name": "python3",
      "display_name": "Python 3"
    },
    "language_info": {
      "name": "python"
    }
  },
  "cells": [
    {
      "cell_type": "code",
      "execution_count": null,
      "metadata": {
        "id": "HlxAsTaRupa5"
      },
      "outputs": [],
      "source": [
        "# Import necessary libraries\n",
        "import pandas as pd\n",
        "import seaborn as sns\n",
        "import matplotlib.pyplot as plt\n",
        "from sklearn.datasets import load_iris\n",
        "\n",
        "# Load Iris dataset\n",
        "iris = load_iris()\n",
        "df = pd.DataFrame(iris.data, columns=iris.feature_names)\n",
        "df['target'] = iris.target\n",
        "\n",
        "# Display basic statistics of the dataset\n",
        "summary_stats = df.describe()\n",
        "print(summary_stats)\n",
        "\n",
        "# Visualize the distribution of features\n",
        "sns.pairplot(df, hue='target', diag_kind='kde')\n",
        "plt.suptitle('Pairplot of Iris Dataset Features', y=1.02)\n",
        "plt.show()\n"
      ]
    }
  ]
}