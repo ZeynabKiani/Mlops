{
  "nbformat": 4,
  "nbformat_minor": 0,
  "metadata": {
    "colab": {
      "provenance": []
    },
    "kernelspec": {
      "name": "python3",
      "display_name": "Python 3"
    },
    "language_info": {
      "name": "python"
    }
  },
  "cells": [
    {
      "cell_type": "code",
      "execution_count": null,
      "metadata": {
        "id": "HlxAsTaRupa5"
      },
      "outputs": [],
      "source": [
        "# Import necessary libraries\n",
        "import mlflow.pyfunc\n",
        "import pandas as pd\n",
        "from sklearn.model_selection import train_test_split\n",
        "from sklearn.metrics import accuracy_score\n",
        "from sklearn.datasets import load_iris\n",
        "import requests\n",
        "import json\n",
        "\n",
        "# Load the saved model\n",
        "model_path = \"random_forest_model\"\n",
        "loaded_model = mlflow.pyfunc.load_model(model_path)\n",
        "\n",
        "# Load Iris dataset\n",
        "iris = load_iris()\n",
        "X = iris.data\n",
        "y = iris.target\n",
        "\n",
        "# Split the dataset\n",
        "X_train, X_test, y_train, y_test = train_test_split(X, y, test_size=0.2, random_state=42)\n",
        "\n",
        "# Make predictions using the loaded model\n",
        "y_pred = loaded_model.predict(X_test)\n",
        "\n",
        "# Evaluate the model\n",
        "accuracy = accuracy_score(y_test, y_pred)\n",
        "print(f'Model Accuracy: {accuracy}')\n",
        "\n",
        "# Example of making predictions using a REST API endpoint\n",
        "api_url = 'http://localhost:5000/predict'\n",
        "data = {'columns': iris.feature_names, 'data': X_test.tolist()}\n",
        "\n",
        "response = requests.post(api_url, json=data)\n",
        "predictions = response.json()['predictions']\n",
        "\n",
        "print('\\nPredictions from API:')\n",
        "print(predictions)\n"
      ]
    }
  ]
}